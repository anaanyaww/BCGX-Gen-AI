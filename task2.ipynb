{
 "cells": [
  {
   "cell_type": "markdown",
   "id": "ad73dab0",
   "metadata": {},
   "source": [
    "**Chatbot Documentation(Summary):**\n",
    "\n",
    "**Summary:**\n",
    "This chatbot provides financial information for Microsoft, Tesla, and Apple in response to predefined queries. Users can inquire about total revenue, net income changes, and total asset differences between the companies. The bot retrieves data from pre-defined dataframes for the past three years.\n",
    "\n",
    "**Predefined Queries:**\n",
    "1. \"What is the current total revenue for [Company]?\"\n",
    "2. \"How has [Company]'s net income changed over the past two years?\"\n",
    "3. \"What is the difference in total assets between [Company1] and [Company2] in [Year]?\"\n",
    "\n",
    "**How It Works:**\n",
    "1. User inputs a financial question.\n",
    "2. Chatbot checks if the question matches predefined formats.\n",
    "3. If matched, the bot retrieves relevant financial data and provides an answer.\n",
    "4. If no match, the bot prompts the user to use predefined query formats.\n",
    "\n",
    "**Limitations:**\n",
    "1. Limited to predefined queries; unable to handle variations.\n",
    "2. Relies on static dataframes; lacks real-time data.\n",
    "3. Understanding restricted to predefined query formats; may not handle ambiguity well."
   ]
  },
  {
   "cell_type": "code",
   "execution_count": 1,
   "id": "c2bfe708",
   "metadata": {},
   "outputs": [],
   "source": [
    "import pandas as pd"
   ]
  },
  {
   "cell_type": "code",
   "execution_count": 2,
   "id": "b158e0ce",
   "metadata": {},
   "outputs": [],
   "source": [
    "# Create DataFrames directly\n",
    "microsoft_data = pd.DataFrame({\n",
    "    'Company': ['Microsoft'] * 3,  # Fill 'Company' with 'Microsoft' for all 3 years\n",
    "    'Year': [2023, 2022, 2021],\n",
    "    'Total Revenue': [211915, 198270, 168088],\n",
    "    'Net Income': [72361, 72738, 61271],\n",
    "    'Total Assets': [411976, 364840, 286556],\n",
    "    'Total Liabilities': [205753, 198298, 163285],\n",
    "    'Cash Flow from Operating Activities': [87582, 89035, 76740]\n",
    "})"
   ]
  },
  {
   "cell_type": "code",
   "execution_count": 3,
   "id": "be0be974",
   "metadata": {},
   "outputs": [],
   "source": [
    "tesla_data = pd.DataFrame({\n",
    "    'Company': ['Tesla'] * 3,  # Fill 'Company' with 'Tesla' for all 3 years\n",
    "    'Year': [2023, 2022, 2021],\n",
    "    'Total Revenue': [96773, 81462, 53823],\n",
    "    'Net Income': [14974, 12587, 5644],\n",
    "    'Total Assets': [106618, 82338, 62131],\n",
    "    'Total Liabilities': [43009, 36440, 30548],\n",
    "    'Cash Flow from Operating Activities': [13256, 14724, 11497]\n",
    "})"
   ]
  },
  {
   "cell_type": "code",
   "execution_count": 4,
   "id": "845438b5",
   "metadata": {},
   "outputs": [],
   "source": [
    "apple_data = pd.DataFrame({\n",
    "    'Company': ['Apple'] * 3,  # Fill 'Company' with 'Apple' for all 3 years\n",
    "    'Year': [2023, 2022, 2021],\n",
    "    'Total Revenue': [104973, 88962, 60523],\n",
    "    'Net Income': [96995, 99803, 94680],\n",
    "    'Total Assets': [352583, 352755, 351002],\n",
    "    'Total Liabilities': [290437, 302083, 287912],\n",
    "    'Cash Flow from Operating Activities': [110543, 122151, 104038]\n",
    "})"
   ]
  },
  {
   "cell_type": "code",
   "execution_count": 5,
   "id": "621c6eba",
   "metadata": {},
   "outputs": [],
   "source": [
    "# Concatenate the DataFrames\n",
    "df_merged = pd.concat([microsoft_data, tesla_data, apple_data], ignore_index=True)"
   ]
  },
  {
   "cell_type": "code",
   "execution_count": 6,
   "id": "37b237c1",
   "metadata": {},
   "outputs": [],
   "source": [
    "# Define predefined queries with placeholders for flexibility\n",
    "predefined_queries = [\n",
    "    \"What is the current total revenue for [Company] in [Year]?\",\n",
    "    \"How has [Company]'s net income changed over the past two years?\",\n",
    "    \"What is the difference in total assets between [Company1] and [Company2] in [Year]?\"\n",
    "]"
   ]
  },
  {
   "cell_type": "code",
   "execution_count": 7,
   "id": "9d10584a",
   "metadata": {},
   "outputs": [],
   "source": [
    "# Function to get user query\n",
    "def get_user_query():\n",
    "    return input(\"Ask me a financial question: \")\n"
   ]
  },
  {
   "cell_type": "code",
   "execution_count": 8,
   "id": "9a7fe72b",
   "metadata": {},
   "outputs": [],
   "source": [
    "# Functions to retrieve financial data\n",
    "def get_total_revenue(company, year):\n",
    "    data = df_merged[(df_merged['Company'] == company) & (df_merged['Year'] == year)]\n",
    "    revenue = data['Total Revenue'].values[0]\n",
    "    return f\"{company}'s total revenue in {year} is ${revenue:,.2f}\""
   ]
  },
  {
   "cell_type": "code",
   "execution_count": 9,
   "id": "dd0cafc0",
   "metadata": {},
   "outputs": [],
   "source": [
    "def get_net_income_change(company):\n",
    "    data = df_merged[df_merged['Company'] == company]\n",
    "    net_income_change = data['Net Income'].pct_change() * 100\n",
    "    latest_change = net_income_change.iloc[-1]  # Get the latest change (2022 to 2023)\n",
    "    return f\"{company}'s net income {('increased' if latest_change > 0 else 'decreased')} by {abs(latest_change):.2f}% over the last year.\"\n"
   ]
  },
  {
   "cell_type": "code",
   "execution_count": 10,
   "id": "2d273858",
   "metadata": {},
   "outputs": [],
   "source": [
    "def get_assets_difference(company1, company2, year):\n",
    "    data1 = df_merged[(df_merged['Company'] == company1) & (df_merged['Year'] == year)]\n",
    "    data2 = df_merged[(df_merged['Company'] == company2) & (df_merged['Year'] == year)]\n",
    "    assets1 = data1['Total Assets'].values[0]\n",
    "    assets2 = data2['Total Assets'].values[0]\n",
    "    difference = abs(assets1 - assets2)\n",
    "    return f\"The difference in total assets between {company1} and {company2} in {year} is ${difference:,.2f}\""
   ]
  },
  {
   "cell_type": "code",
   "execution_count": 11,
   "id": "56953383",
   "metadata": {},
   "outputs": [],
   "source": [
    "# Function to handle user query and print response\n",
    "def process_user_query():\n",
    "    query = get_user_query()\n",
    "    query_lower = query.lower()\n",
    "    for company in ['Microsoft', 'Tesla', 'Apple']:\n",
    "        for year in [2021, 2022, 2023]:\n",
    "            if company.lower() in query_lower and str(year) in query_lower:\n",
    "                if \"current total revenue\" in query_lower:\n",
    "                    response = get_total_revenue(company, year)\n",
    "                elif \"net income changed\" in query_lower:\n",
    "                    response = get_net_income_change(company)\n",
    "                elif \"difference in total assets\" in query_lower:\n",
    "                    response = get_assets_difference(company, 'Apple', year)\n",
    "                else:\n",
    "                    response = \"Sorry, I can't answer that yet.\"\n",
    "                print(response)\n",
    "                return\n",
    "    print(\"Sorry, I can't answer that yet.\")\n"
   ]
  },
  {
   "cell_type": "code",
   "execution_count": 12,
   "id": "259f9878",
   "metadata": {},
   "outputs": [
    {
     "name": "stdout",
     "output_type": "stream",
     "text": [
      "Ask me a financial question: What is the current total revenue for Apple in 2023?\n",
      "Apple's total revenue in 2023 is $104,973.00\n"
     ]
    }
   ],
   "source": [
    "# Call the function to start interaction\n",
    "process_user_query()"
   ]
  },
  {
   "cell_type": "code",
   "execution_count": null,
   "id": "f2922f6f",
   "metadata": {},
   "outputs": [],
   "source": []
  }
 ],
 "metadata": {
  "kernelspec": {
   "display_name": "Python 3 (ipykernel)",
   "language": "python",
   "name": "python3"
  },
  "language_info": {
   "codemirror_mode": {
    "name": "ipython",
    "version": 3
   },
   "file_extension": ".py",
   "mimetype": "text/x-python",
   "name": "python",
   "nbconvert_exporter": "python",
   "pygments_lexer": "ipython3",
   "version": "3.11.4"
  }
 },
 "nbformat": 4,
 "nbformat_minor": 5
}
